{
 "cells": [
  {
   "cell_type": "code",
   "execution_count": 1,
   "metadata": {},
   "outputs": [],
   "source": [
    "# Dependencies\n",
    "import numpy as np\n",
    "import datetime as dt\n",
    "import pandas as pd\n",
    "import calendar as c\n",
    "\n",
    "# Python SQL toolkit and Object Relational Mapper\n",
    "import sqlalchemy\n",
    "from sqlalchemy.ext.automap import automap_base\n",
    "from sqlalchemy.orm import Session\n",
    "from sqlalchemy import create_engine, func"
   ]
  },
  {
   "cell_type": "code",
   "execution_count": 2,
   "metadata": {},
   "outputs": [],
   "source": [
    "engine = create_engine(\"sqlite:///hawaii.sqlite\")\n",
    "\n",
    "# reflect an existing database into a new model\n",
    "Base = automap_base()\n",
    "# reflect the tables\n",
    "Base.prepare(engine, reflect=True)\n",
    "\n",
    "# Save references to each table\n",
    "Measurement = Base.classes.measurement\n",
    "Station = Base.classes.station"
   ]
  },
  {
   "cell_type": "code",
   "execution_count": 3,
   "metadata": {},
   "outputs": [],
   "source": [
    "# Create our session (link) from Python to the DB\n",
    "session = Session(engine)"
   ]
  },
  {
   "cell_type": "markdown",
   "metadata": {},
   "source": [
    "## D1: Determine the Summary Statistics for June"
   ]
  },
  {
   "cell_type": "code",
   "execution_count": 4,
   "metadata": {},
   "outputs": [],
   "source": [
    "# 1. Import the sqlalchemy extract function.\n",
    "from sqlalchemy import extract\n",
    "\n",
    "# 2. Write a query that filters the Measurement table to retrieve the temperatures for the month of June. \n",
    "temp_june = session.query(Measurement.date, Measurement.tobs, Measurement.prcp).\\\n",
    "    filter(extract(\"month\", Measurement.date) == 6)"
   ]
  },
  {
   "cell_type": "code",
   "execution_count": 5,
   "metadata": {},
   "outputs": [],
   "source": [
    "#  3. Convert the June temperatures to a list.\n",
    "temp_june_lst = temp_june.all()"
   ]
  },
  {
   "cell_type": "code",
   "execution_count": 6,
   "metadata": {},
   "outputs": [],
   "source": [
    "# 4. Create a DataFrame from the list of temperatures for the month of June. \n",
    "temp_june_df = pd.DataFrame(temp_june_lst, columns=['date', 'tobs', 'prcp'])"
   ]
  },
  {
   "cell_type": "code",
   "execution_count": 7,
   "metadata": {},
   "outputs": [
    {
     "data": {
      "text/html": [
       "<div>\n",
       "<style scoped>\n",
       "    .dataframe tbody tr th:only-of-type {\n",
       "        vertical-align: middle;\n",
       "    }\n",
       "\n",
       "    .dataframe tbody tr th {\n",
       "        vertical-align: top;\n",
       "    }\n",
       "\n",
       "    .dataframe thead th {\n",
       "        text-align: right;\n",
       "    }\n",
       "</style>\n",
       "<table border=\"1\" class=\"dataframe\">\n",
       "  <thead>\n",
       "    <tr style=\"text-align: right;\">\n",
       "      <th></th>\n",
       "      <th>tobs</th>\n",
       "      <th>prcp</th>\n",
       "    </tr>\n",
       "  </thead>\n",
       "  <tbody>\n",
       "    <tr>\n",
       "      <th>count</th>\n",
       "      <td>1700.000000</td>\n",
       "      <td>1574.000000</td>\n",
       "    </tr>\n",
       "    <tr>\n",
       "      <th>mean</th>\n",
       "      <td>74.944118</td>\n",
       "      <td>0.136360</td>\n",
       "    </tr>\n",
       "    <tr>\n",
       "      <th>std</th>\n",
       "      <td>3.257417</td>\n",
       "      <td>0.335731</td>\n",
       "    </tr>\n",
       "    <tr>\n",
       "      <th>min</th>\n",
       "      <td>64.000000</td>\n",
       "      <td>0.000000</td>\n",
       "    </tr>\n",
       "    <tr>\n",
       "      <th>25%</th>\n",
       "      <td>73.000000</td>\n",
       "      <td>0.000000</td>\n",
       "    </tr>\n",
       "    <tr>\n",
       "      <th>50%</th>\n",
       "      <td>75.000000</td>\n",
       "      <td>0.020000</td>\n",
       "    </tr>\n",
       "    <tr>\n",
       "      <th>75%</th>\n",
       "      <td>77.000000</td>\n",
       "      <td>0.120000</td>\n",
       "    </tr>\n",
       "    <tr>\n",
       "      <th>max</th>\n",
       "      <td>85.000000</td>\n",
       "      <td>4.430000</td>\n",
       "    </tr>\n",
       "  </tbody>\n",
       "</table>\n",
       "</div>"
      ],
      "text/plain": [
       "              tobs         prcp\n",
       "count  1700.000000  1574.000000\n",
       "mean     74.944118     0.136360\n",
       "std       3.257417     0.335731\n",
       "min      64.000000     0.000000\n",
       "25%      73.000000     0.000000\n",
       "50%      75.000000     0.020000\n",
       "75%      77.000000     0.120000\n",
       "max      85.000000     4.430000"
      ]
     },
     "execution_count": 7,
     "metadata": {},
     "output_type": "execute_result"
    }
   ],
   "source": [
    "# 5. Calculate and print out the summary statistics for the June temperature DataFrame.\n",
    "temp_june_df.describe()"
   ]
  },
  {
   "cell_type": "markdown",
   "metadata": {},
   "source": [
    "## D2: Determine the Summary Statistics for December"
   ]
  },
  {
   "cell_type": "code",
   "execution_count": 8,
   "metadata": {},
   "outputs": [],
   "source": [
    "# 6. Write a query that filters the Measurement table to retrieve the temperatures for the month of December.\n",
    "temp_dec = session.query(Measurement.date, Measurement.tobs, Measurement.prcp).\\\n",
    "    filter(extract(\"month\", Measurement.date) == 12)"
   ]
  },
  {
   "cell_type": "code",
   "execution_count": 9,
   "metadata": {},
   "outputs": [],
   "source": [
    "# 7. Convert the December temperatures to a list.\n",
    "temp_dec_lst = temp_dec.all()"
   ]
  },
  {
   "cell_type": "code",
   "execution_count": 10,
   "metadata": {},
   "outputs": [],
   "source": [
    "# 8. Create a DataFrame from the list of temperatures for the month of December. \n",
    "temp_dec_df = pd.DataFrame(temp_dec_lst, columns=['date', 'tobs', 'prcp'])"
   ]
  },
  {
   "cell_type": "code",
   "execution_count": 11,
   "metadata": {
    "scrolled": false
   },
   "outputs": [
    {
     "data": {
      "text/html": [
       "<div>\n",
       "<style scoped>\n",
       "    .dataframe tbody tr th:only-of-type {\n",
       "        vertical-align: middle;\n",
       "    }\n",
       "\n",
       "    .dataframe tbody tr th {\n",
       "        vertical-align: top;\n",
       "    }\n",
       "\n",
       "    .dataframe thead th {\n",
       "        text-align: right;\n",
       "    }\n",
       "</style>\n",
       "<table border=\"1\" class=\"dataframe\">\n",
       "  <thead>\n",
       "    <tr style=\"text-align: right;\">\n",
       "      <th></th>\n",
       "      <th>tobs</th>\n",
       "      <th>prcp</th>\n",
       "    </tr>\n",
       "  </thead>\n",
       "  <tbody>\n",
       "    <tr>\n",
       "      <th>count</th>\n",
       "      <td>1517.000000</td>\n",
       "      <td>1405.000000</td>\n",
       "    </tr>\n",
       "    <tr>\n",
       "      <th>mean</th>\n",
       "      <td>71.041529</td>\n",
       "      <td>0.216819</td>\n",
       "    </tr>\n",
       "    <tr>\n",
       "      <th>std</th>\n",
       "      <td>3.745920</td>\n",
       "      <td>0.541399</td>\n",
       "    </tr>\n",
       "    <tr>\n",
       "      <th>min</th>\n",
       "      <td>56.000000</td>\n",
       "      <td>0.000000</td>\n",
       "    </tr>\n",
       "    <tr>\n",
       "      <th>25%</th>\n",
       "      <td>69.000000</td>\n",
       "      <td>0.000000</td>\n",
       "    </tr>\n",
       "    <tr>\n",
       "      <th>50%</th>\n",
       "      <td>71.000000</td>\n",
       "      <td>0.030000</td>\n",
       "    </tr>\n",
       "    <tr>\n",
       "      <th>75%</th>\n",
       "      <td>74.000000</td>\n",
       "      <td>0.150000</td>\n",
       "    </tr>\n",
       "    <tr>\n",
       "      <th>max</th>\n",
       "      <td>83.000000</td>\n",
       "      <td>6.420000</td>\n",
       "    </tr>\n",
       "  </tbody>\n",
       "</table>\n",
       "</div>"
      ],
      "text/plain": [
       "              tobs         prcp\n",
       "count  1517.000000  1405.000000\n",
       "mean     71.041529     0.216819\n",
       "std       3.745920     0.541399\n",
       "min      56.000000     0.000000\n",
       "25%      69.000000     0.000000\n",
       "50%      71.000000     0.030000\n",
       "75%      74.000000     0.150000\n",
       "max      83.000000     6.420000"
      ]
     },
     "execution_count": 11,
     "metadata": {},
     "output_type": "execute_result"
    }
   ],
   "source": [
    "# 9. Calculate and print out the summary statistics for the Decemeber temperature DataFrame.\n",
    "temp_dec_df.describe()"
   ]
  },
  {
   "cell_type": "code",
   "execution_count": null,
   "metadata": {},
   "outputs": [],
   "source": []
  },
  {
   "cell_type": "markdown",
   "metadata": {},
   "source": [
    "## Extra: Determine the Summary Statistics (monthly)"
   ]
  },
  {
   "cell_type": "code",
   "execution_count": 12,
   "metadata": {},
   "outputs": [],
   "source": [
    "#temp_all = session.query(extract('month', Measurement.date), extract('year', Measurement.date),\n",
    "#                         func.avg(Measurement.tobs), func.min(Measurement.tobs), func.max(Measurement.tobs),\n",
    "#                         func.avg(Measurement.prcp), func.min(Measurement.prcp), func.max(Measurement.prcp)).\\\n",
    "#    group_by(extract(\"month\", Measurement.date), extract('year', Measurement.date))\n",
    "\n",
    "temp_all = session.query(extract('month', Measurement.date), \n",
    "                         func.avg(Measurement.tobs), func.min(Measurement.tobs), func.max(Measurement.tobs),\n",
    "                         func.avg(Measurement.prcp), func.min(Measurement.prcp), func.max(Measurement.prcp)).\\\n",
    "    group_by(extract(\"month\", Measurement.date))\n",
    "\n"
   ]
  },
  {
   "cell_type": "code",
   "execution_count": 13,
   "metadata": {
    "scrolled": false
   },
   "outputs": [
    {
     "data": {
      "text/plain": [
       "[(1, 68.72611464968153, 54.0, 81.0, 0.12997530864197532, 0.0, 8.81),\n",
       " (2, 69.44223602484472, 56.0, 83.0, 0.1372714870395634, 0.0, 5.04),\n",
       " (3, 70.05906674542233, 56.0, 82.0, 0.20422733077905494, 0.0, 6.38),\n",
       " (4, 72.35726795096322, 53.0, 84.0, 0.1506394984326019, 0.0, 6.25),\n",
       " (5, 73.68090017311022, 63.0, 87.0, 0.14567733990147788, 0.0, 4.07),\n",
       " (6, 74.94411764705882, 64.0, 85.0, 0.13635959339263018, 0.0, 4.43),\n",
       " (7, 76.08240794856809, 61.0, 87.0, 0.16792224346717663, 0.0, 11.53),\n",
       " (8, 76.41245376078915, 65.0, 87.0, 0.14666219839142086, 0.0, 4.81),\n",
       " (9, 76.16486486486487, 64.0, 87.0, 0.16424945612762884, 0.0, 6.83),\n",
       " (10, 75.3913881748072, 64.0, 86.0, 0.15560553633218005, 0.0, 4.47),\n",
       " (11, 73.25268817204301, 61.0, 83.0, 0.1803801169590643, 0.0, 8.06),\n",
       " (12, 71.04152933421226, 56.0, 83.0, 0.21681850533807792, 0.0, 6.42)]"
      ]
     },
     "execution_count": 13,
     "metadata": {},
     "output_type": "execute_result"
    }
   ],
   "source": [
    "temp_all.all()"
   ]
  },
  {
   "cell_type": "code",
   "execution_count": 14,
   "metadata": {},
   "outputs": [],
   "source": [
    "final_df = pd.DataFrame(temp_all, columns=['mon', 'Avg Temp', 'Min Temp', 'Max Temp', 'Avg Prec', 'Min Prec', 'Max Prec'])"
   ]
  },
  {
   "cell_type": "code",
   "execution_count": 15,
   "metadata": {},
   "outputs": [
    {
     "data": {
      "text/html": [
       "<div>\n",
       "<style scoped>\n",
       "    .dataframe tbody tr th:only-of-type {\n",
       "        vertical-align: middle;\n",
       "    }\n",
       "\n",
       "    .dataframe tbody tr th {\n",
       "        vertical-align: top;\n",
       "    }\n",
       "\n",
       "    .dataframe thead th {\n",
       "        text-align: right;\n",
       "    }\n",
       "</style>\n",
       "<table border=\"1\" class=\"dataframe\">\n",
       "  <thead>\n",
       "    <tr style=\"text-align: right;\">\n",
       "      <th></th>\n",
       "      <th>mon</th>\n",
       "      <th>Avg Temp</th>\n",
       "      <th>Min Temp</th>\n",
       "      <th>Max Temp</th>\n",
       "      <th>Avg Prec</th>\n",
       "      <th>Min Prec</th>\n",
       "      <th>Max Prec</th>\n",
       "    </tr>\n",
       "  </thead>\n",
       "  <tbody>\n",
       "    <tr>\n",
       "      <th>0</th>\n",
       "      <td>1</td>\n",
       "      <td>68.726115</td>\n",
       "      <td>54.0</td>\n",
       "      <td>81.0</td>\n",
       "      <td>0.129975</td>\n",
       "      <td>0.0</td>\n",
       "      <td>8.81</td>\n",
       "    </tr>\n",
       "    <tr>\n",
       "      <th>1</th>\n",
       "      <td>2</td>\n",
       "      <td>69.442236</td>\n",
       "      <td>56.0</td>\n",
       "      <td>83.0</td>\n",
       "      <td>0.137271</td>\n",
       "      <td>0.0</td>\n",
       "      <td>5.04</td>\n",
       "    </tr>\n",
       "    <tr>\n",
       "      <th>2</th>\n",
       "      <td>3</td>\n",
       "      <td>70.059067</td>\n",
       "      <td>56.0</td>\n",
       "      <td>82.0</td>\n",
       "      <td>0.204227</td>\n",
       "      <td>0.0</td>\n",
       "      <td>6.38</td>\n",
       "    </tr>\n",
       "    <tr>\n",
       "      <th>3</th>\n",
       "      <td>4</td>\n",
       "      <td>72.357268</td>\n",
       "      <td>53.0</td>\n",
       "      <td>84.0</td>\n",
       "      <td>0.150639</td>\n",
       "      <td>0.0</td>\n",
       "      <td>6.25</td>\n",
       "    </tr>\n",
       "    <tr>\n",
       "      <th>4</th>\n",
       "      <td>5</td>\n",
       "      <td>73.680900</td>\n",
       "      <td>63.0</td>\n",
       "      <td>87.0</td>\n",
       "      <td>0.145677</td>\n",
       "      <td>0.0</td>\n",
       "      <td>4.07</td>\n",
       "    </tr>\n",
       "    <tr>\n",
       "      <th>5</th>\n",
       "      <td>6</td>\n",
       "      <td>74.944118</td>\n",
       "      <td>64.0</td>\n",
       "      <td>85.0</td>\n",
       "      <td>0.136360</td>\n",
       "      <td>0.0</td>\n",
       "      <td>4.43</td>\n",
       "    </tr>\n",
       "    <tr>\n",
       "      <th>6</th>\n",
       "      <td>7</td>\n",
       "      <td>76.082408</td>\n",
       "      <td>61.0</td>\n",
       "      <td>87.0</td>\n",
       "      <td>0.167922</td>\n",
       "      <td>0.0</td>\n",
       "      <td>11.53</td>\n",
       "    </tr>\n",
       "    <tr>\n",
       "      <th>7</th>\n",
       "      <td>8</td>\n",
       "      <td>76.412454</td>\n",
       "      <td>65.0</td>\n",
       "      <td>87.0</td>\n",
       "      <td>0.146662</td>\n",
       "      <td>0.0</td>\n",
       "      <td>4.81</td>\n",
       "    </tr>\n",
       "    <tr>\n",
       "      <th>8</th>\n",
       "      <td>9</td>\n",
       "      <td>76.164865</td>\n",
       "      <td>64.0</td>\n",
       "      <td>87.0</td>\n",
       "      <td>0.164249</td>\n",
       "      <td>0.0</td>\n",
       "      <td>6.83</td>\n",
       "    </tr>\n",
       "    <tr>\n",
       "      <th>9</th>\n",
       "      <td>10</td>\n",
       "      <td>75.391388</td>\n",
       "      <td>64.0</td>\n",
       "      <td>86.0</td>\n",
       "      <td>0.155606</td>\n",
       "      <td>0.0</td>\n",
       "      <td>4.47</td>\n",
       "    </tr>\n",
       "    <tr>\n",
       "      <th>10</th>\n",
       "      <td>11</td>\n",
       "      <td>73.252688</td>\n",
       "      <td>61.0</td>\n",
       "      <td>83.0</td>\n",
       "      <td>0.180380</td>\n",
       "      <td>0.0</td>\n",
       "      <td>8.06</td>\n",
       "    </tr>\n",
       "    <tr>\n",
       "      <th>11</th>\n",
       "      <td>12</td>\n",
       "      <td>71.041529</td>\n",
       "      <td>56.0</td>\n",
       "      <td>83.0</td>\n",
       "      <td>0.216819</td>\n",
       "      <td>0.0</td>\n",
       "      <td>6.42</td>\n",
       "    </tr>\n",
       "  </tbody>\n",
       "</table>\n",
       "</div>"
      ],
      "text/plain": [
       "    mon   Avg Temp  Min Temp  Max Temp  Avg Prec  Min Prec  Max Prec\n",
       "0     1  68.726115      54.0      81.0  0.129975       0.0      8.81\n",
       "1     2  69.442236      56.0      83.0  0.137271       0.0      5.04\n",
       "2     3  70.059067      56.0      82.0  0.204227       0.0      6.38\n",
       "3     4  72.357268      53.0      84.0  0.150639       0.0      6.25\n",
       "4     5  73.680900      63.0      87.0  0.145677       0.0      4.07\n",
       "5     6  74.944118      64.0      85.0  0.136360       0.0      4.43\n",
       "6     7  76.082408      61.0      87.0  0.167922       0.0     11.53\n",
       "7     8  76.412454      65.0      87.0  0.146662       0.0      4.81\n",
       "8     9  76.164865      64.0      87.0  0.164249       0.0      6.83\n",
       "9    10  75.391388      64.0      86.0  0.155606       0.0      4.47\n",
       "10   11  73.252688      61.0      83.0  0.180380       0.0      8.06\n",
       "11   12  71.041529      56.0      83.0  0.216819       0.0      6.42"
      ]
     },
     "execution_count": 15,
     "metadata": {},
     "output_type": "execute_result"
    }
   ],
   "source": [
    "final_df"
   ]
  },
  {
   "cell_type": "code",
   "execution_count": 19,
   "metadata": {},
   "outputs": [
    {
     "data": {
      "text/plain": [
       "<AxesSubplot:title={'center':'Average Temperatures in a Year'}, xlabel='mon'>"
      ]
     },
     "execution_count": 19,
     "metadata": {},
     "output_type": "execute_result"
    },
    {
     "data": {
      "image/png": "[encoded data removed]",
      "text/plain": [
       "<Figure size 864x504 with 1 Axes>"
      ]
     },
     "metadata": {
      "needs_background": "light"
     },
     "output_type": "display_data"
    }
   ],
   "source": [
    "final_df.plot(x = 'mon', y=['Avg Temp', 'Min Temp', 'Max Temp'], title='Average Temperatures in a Year', figsize=(12,7))"
   ]
  },
  {
   "cell_type": "code",
   "execution_count": 20,
   "metadata": {},
   "outputs": [
    {
     "data": {
      "text/plain": [
       "<AxesSubplot:title={'center':'Average Precipitation in a Year'}, xlabel='mon'>"
      ]
     },
     "execution_count": 20,
     "metadata": {},
     "output_type": "execute_result"
    },
    {
     "data": {
      "image/png": "[encoded data removed]",
      "text/plain": [
       "<Figure size 864x504 with 1 Axes>"
      ]
     },
     "metadata": {
      "needs_background": "light"
     },
     "output_type": "display_data"
    }
   ],
   "source": [
    "final_df.plot(x = 'mon', y=['Avg Prec', 'Min Prec', 'Max Prec'], title='Average Precipitation in a Year', figsize=(12,7))"
   ]
  },
  {
   "cell_type": "code",
   "execution_count": 27,
   "metadata": {},
   "outputs": [
    {
     "data": {
      "text/plain": [
       "<AxesSubplot:title={'center':'Box Temperatures in a Year'}>"
      ]
     },
     "execution_count": 27,
     "metadata": {},
     "output_type": "execute_result"
    },
    {
     "data": {
      "image/png": "[encoded data removed]",
      "text/plain": [
       "<Figure size 864x504 with 1 Axes>"
      ]
     },
     "metadata": {
      "needs_background": "light"
     },
     "output_type": "display_data"
    }
   ],
   "source": [
    "final_df.plot(x = 'mon', y=['Avg Temp', 'Min Temp', 'Max Temp'], kind = 'box', title='Box Temperatures in a Year', figsize=(12,7))"
   ]
  },
  {
   "cell_type": "code",
   "execution_count": 29,
   "metadata": {},
   "outputs": [
    {
     "data": {
      "text/plain": [
       "<AxesSubplot:title={'center':'Box Precipitation in a Year'}>"
      ]
     },
     "execution_count": 29,
     "metadata": {},
     "output_type": "execute_result"
    },
    {
     "data": {
      "image/png": "[encoded data removed]",
      "text/plain": [
       "<Figure size 864x504 with 1 Axes>"
      ]
     },
     "metadata": {
      "needs_background": "light"
     },
     "output_type": "display_data"
    }
   ],
   "source": [
    "final_df.plot(x = 'mon', y=['Avg Prec', 'Min Prec', 'Max Prec'], kind = 'box', title='Box Precipitation in a Year', figsize=(12,7))"
   ]
  }
 ],
 "metadata": {
  "kernelspec": {
   "display_name": "PythonData",
   "language": "python",
   "name": "pythondata"
  },
  "language_info": {
   "codemirror_mode": {
    "name": "ipython",
    "version": 3
   },
   "file_extension": ".py",
   "mimetype": "text/x-python",
   "name": "python",
   "nbconvert_exporter": "python",
   "pygments_lexer": "ipython3",
   "version": "3.7.11"
  }
 },
 "nbformat": 4,
 "nbformat_minor": 2
}
